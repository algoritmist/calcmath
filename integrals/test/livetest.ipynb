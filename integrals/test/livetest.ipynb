{
 "cells": [
  {
   "cell_type": "markdown",
   "source": [
    "Show test cases"
   ],
   "metadata": {
    "collapsed": false
   }
  },
  {
   "cell_type": "code",
   "execution_count": 2,
   "metadata": {
    "collapsed": true
   },
   "outputs": [
    {
     "name": "stdout",
     "output_type": "stream",
     "text": [
      "Integral(1/x, (-2, 2), Left(No solution))\n",
      "Integral(sin(x)/x, (-2, 2), Left(No solution))\n",
      "Integral(x**3, (0, 1), Right(0.25))\n",
      "Integral(3*atan(x)**4/(x**2 + 1), (-pi/2, pi), Right(4.803684413))\n",
      "Integral((3*x - 1)/sqrt(2*x**2 - x + 1), (-5, 10), Right(6.153561713))\n"
     ]
    }
   ],
   "source": [
    "from integrals.simpson.default_integrals import *\n",
    "for integral in integrals:\n",
    "    print(integral)"
   ]
  },
  {
   "cell_type": "markdown",
   "source": [],
   "metadata": {
    "collapsed": false
   }
  }
 ],
 "metadata": {
  "kernelspec": {
   "display_name": "Python 3",
   "language": "python",
   "name": "python3"
  },
  "language_info": {
   "codemirror_mode": {
    "name": "ipython",
    "version": 2
   },
   "file_extension": ".py",
   "mimetype": "text/x-python",
   "name": "python",
   "nbconvert_exporter": "python",
   "pygments_lexer": "ipython2",
   "version": "2.7.6"
  }
 },
 "nbformat": 4,
 "nbformat_minor": 0
}

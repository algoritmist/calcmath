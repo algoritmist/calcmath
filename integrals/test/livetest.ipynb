{
 "cells": [
  {
   "cell_type": "markdown",
   "source": [
    "# Simpson method test\n",
    "## Test cases"
   ],
   "metadata": {
    "collapsed": false
   }
  },
  {
   "cell_type": "code",
   "execution_count": 1,
   "metadata": {
    "collapsed": true
   },
   "outputs": [
    {
     "name": "stdout",
     "output_type": "stream",
     "text": [
      "Integral(x**3, (0, 1))\n",
      "Integral((3*x - 1)/sqrt(2*x**2 - x + 1), (-5, 10))\n",
      "Integral(1/x, (-2, 2))\n",
      "Integral(sin(x)/x, (-2, 2))\n",
      "Integral(exp(-x**2), (0, 1))\n",
      "Integral(1/(x + 1) + 1/x, (-2, 2))\n"
     ]
    }
   ],
   "source": [
    "from integrals.simpson.default_integrals import *\n",
    "from integrals.simpson.solver import *\n",
    "\n",
    "for integral in integrals:\n",
    "    print(integral)"
   ]
  },
  {
   "cell_type": "markdown",
   "source": [
    "## Testing"
   ],
   "metadata": {
    "collapsed": false
   }
  },
  {
   "cell_type": "code",
   "execution_count": 2,
   "outputs": [
    {
     "name": "stdout",
     "output_type": "stream",
     "text": [
      "Test 0. Integral(x**3, (0, 1))\n",
      "Result: Right(0.2500000000000003)\n",
      "Expected: Right(0.25)\n",
      "Test verdict: True\n",
      "--------------------\n",
      "Test 1. Integral((3*x - 1)/sqrt(2*x**2 - x + 1), (-5, 10))\n",
      "Result: Right(8.417633977254031)\n",
      "Expected: Right(8.4176339772)\n",
      "Test verdict: True\n",
      "--------------------\n",
      "Test 2. Integral(1/x, (-2, 2))\n",
      "Result: Left([<integrals.classes.breaks.Break object at 0x7f0b5934e430>])\n",
      "Expected: Left(No solution)\n",
      "Test verdict: True\n",
      "--------------------\n",
      "Test 3. Integral(sin(x)/x, (-2, 2))\n"
     ]
    },
    {
     "name": "stderr",
     "output_type": "stream",
     "text": [
      "<lambdifygenerated-4>:2: RuntimeWarning: invalid value encountered in scalar divide\n",
      "  return sin(x)/x\n"
     ]
    },
    {
     "name": "stdout",
     "output_type": "stream",
     "text": [
      "Result: Right(nan)\n",
      "Expected: Right(0)\n",
      "Test verdict: False\n",
      "--------------------\n",
      "Test 4. Integral(exp(-x**2), (0, 1))\n",
      "Result: Right(0.7468241328124215)\n",
      "Expected: Right(0.7468)\n",
      "Test verdict: True\n",
      "--------------------\n",
      "Test 5. Integral(1/(x + 1) + 1/x, (-2, 2))\n",
      "Result: Left([<integrals.classes.breaks.Break object at 0x7f0b599a8280>, <integrals.classes.breaks.Break object at 0x7f0b5954d310>])\n",
      "Expected: Left(No solution)\n",
      "Test verdict: True\n",
      "--------------------\n"
     ]
    }
   ],
   "source": [
    "from integrals.classes.methods import MethodType\n",
    "\n",
    "\n",
    "def show_result(result: Either):\n",
    "    if result.is_right():\n",
    "        return result.get_value()\n",
    "    return f'Function has unresolvable breaks at: {[err.x for err in result.get_error()]}'\n",
    "\n",
    "\n",
    "def is_test_passed(got, expected, eps=1e-3):\n",
    "    if got.is_right() and expected.is_right():\n",
    "        return abs(got.get_value() - expected.get_value()) < eps\n",
    "    if got.is_left() and expected.is_right():\n",
    "        return False\n",
    "    return True\n",
    "\n",
    "def test_integrals():\n",
    "    for i, integral in enumerate(integrals):\n",
    "        print(f\"Test {i}. {integral}\")\n",
    "        result = calculate(integral, 100000, MethodType.MIDDLE)\n",
    "        print(f\"Result: {result}\")\n",
    "        print(f\"Expected: {integral.newton_leibniz_answer}\")\n",
    "        print(f\"Test verdict: {is_test_passed(result, integral.newton_leibniz_answer)}\")\n",
    "        print(\"-\" * 20)\n",
    "\n",
    "\n",
    "test_integrals()"
   ],
   "metadata": {
    "collapsed": false
   }
  },
  {
   "cell_type": "code",
   "execution_count": 2,
   "outputs": [],
   "source": [],
   "metadata": {
    "collapsed": false
   }
  }
 ],
 "metadata": {
  "kernelspec": {
   "display_name": "Python 3",
   "language": "python",
   "name": "python3"
  },
  "language_info": {
   "codemirror_mode": {
    "name": "ipython",
    "version": 2
   },
   "file_extension": ".py",
   "mimetype": "text/x-python",
   "name": "python",
   "nbconvert_exporter": "python",
   "pygments_lexer": "ipython2",
   "version": "2.7.6"
  }
 },
 "nbformat": 4,
 "nbformat_minor": 0
}

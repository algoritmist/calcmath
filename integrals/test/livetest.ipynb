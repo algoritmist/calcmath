{
 "cells": [
  {
   "cell_type": "markdown",
   "source": [
    "# Simpson method test\n",
    "## Test cases"
   ],
   "metadata": {
    "collapsed": false
   }
  },
  {
   "cell_type": "code",
   "execution_count": 1,
   "metadata": {
    "collapsed": true
   },
   "outputs": [
    {
     "name": "stdout",
     "output_type": "stream",
     "text": [
      "Integral(x**3, (0, 1), Right(0.25))\n",
      "Integral((3*x - 1)/sqrt(2*x**2 - x + 1), (-5, 10), Right(8.4176339772))\n",
      "Integral(1/x, (-2, 2), Left(No solution))\n",
      "Integral(sin(x)/x, (-2, 2), Left(No solution))\n"
     ]
    }
   ],
   "source": [
    "from integrals.simpson.default_integrals import *\n",
    "from integrals.simpson.solver import *\n",
    "for integral in integrals:\n",
    "    print(integral)"
   ]
  },
  {
   "cell_type": "markdown",
   "source": [
    "## Testing"
   ],
   "metadata": {
    "collapsed": false
   }
  },
  {
   "cell_type": "code",
   "execution_count": 2,
   "outputs": [
    {
     "name": "stdout",
     "output_type": "stream",
     "text": [
      "Integral(x**3, (0, 1), Right(0.25)) = Right(0.25000000000000017)\n",
      "Integral((3*x - 1)/sqrt(2*x**2 - x + 1), (-5, 10), Right(8.4176339772)) = Right(8.417633977253962)\n"
     ]
    },
    {
     "ename": "ZeroDivisionError",
     "evalue": "0.0 cannot be raised to a negative power",
     "output_type": "error",
     "traceback": [
      "\u001B[0;31m---------------------------------------------------------------------------\u001B[0m",
      "\u001B[0;31mZeroDivisionError\u001B[0m                         Traceback (most recent call last)",
      "Cell \u001B[0;32mIn[2], line 2\u001B[0m\n\u001B[1;32m      1\u001B[0m \u001B[38;5;28;01mfor\u001B[39;00m integral \u001B[38;5;129;01min\u001B[39;00m integrals:\n\u001B[0;32m----> 2\u001B[0m     \u001B[38;5;28mprint\u001B[39m(\u001B[38;5;124mf\u001B[39m\u001B[38;5;124m\"\u001B[39m\u001B[38;5;132;01m{\u001B[39;00mintegral\u001B[38;5;132;01m}\u001B[39;00m\u001B[38;5;124m = \u001B[39m\u001B[38;5;132;01m{\u001B[39;00mcalculate(integral,\u001B[38;5;250m \u001B[39m\u001B[38;5;241m1000\u001B[39m)\u001B[38;5;132;01m}\u001B[39;00m\u001B[38;5;124m\"\u001B[39m)\n",
      "File \u001B[0;32m~/PycharmProjects/calcmath/integrals/simpson/solver.py:13\u001B[0m, in \u001B[0;36mcalculate\u001B[0;34m(integral, steps)\u001B[0m\n\u001B[1;32m      8\u001B[0m f, (a, b) \u001B[38;5;241m=\u001B[39m lambdify(\u001B[38;5;124m'\u001B[39m\u001B[38;5;124mx\u001B[39m\u001B[38;5;124m'\u001B[39m, integral\u001B[38;5;241m.\u001B[39mformula), integral\u001B[38;5;241m.\u001B[39mranges\n\u001B[1;32m     10\u001B[0m h \u001B[38;5;241m=\u001B[39m (b \u001B[38;5;241m-\u001B[39m a) \u001B[38;5;241m/\u001B[39m steps\n\u001B[1;32m     11\u001B[0m \u001B[38;5;28;01mreturn\u001B[39;00m Right(h \u001B[38;5;241m/\u001B[39m \u001B[38;5;241m6\u001B[39m \u001B[38;5;241m*\u001B[39m (\n\u001B[1;32m     12\u001B[0m         f(a) \u001B[38;5;241m+\u001B[39m f(b) \u001B[38;5;241m+\u001B[39m\n\u001B[0;32m---> 13\u001B[0m         \u001B[38;5;241m2\u001B[39m \u001B[38;5;241m*\u001B[39m \u001B[38;5;28msum\u001B[39m([f(a \u001B[38;5;241m+\u001B[39m i \u001B[38;5;241m*\u001B[39m h) \u001B[38;5;28;01mfor\u001B[39;00m i \u001B[38;5;129;01min\u001B[39;00m \u001B[38;5;28mrange\u001B[39m(\u001B[38;5;241m1\u001B[39m, steps)]) \u001B[38;5;241m+\u001B[39m\n\u001B[1;32m     14\u001B[0m         \u001B[38;5;241m4\u001B[39m \u001B[38;5;241m*\u001B[39m \u001B[38;5;28msum\u001B[39m([f(a \u001B[38;5;241m+\u001B[39m i \u001B[38;5;241m*\u001B[39m h \u001B[38;5;241m-\u001B[39m h \u001B[38;5;241m/\u001B[39m \u001B[38;5;241m2\u001B[39m) \u001B[38;5;28;01mfor\u001B[39;00m i \u001B[38;5;129;01min\u001B[39;00m \u001B[38;5;28mrange\u001B[39m(\u001B[38;5;241m1\u001B[39m, steps \u001B[38;5;241m+\u001B[39m \u001B[38;5;241m1\u001B[39m)])\n\u001B[1;32m     15\u001B[0m ))\n",
      "File \u001B[0;32m~/PycharmProjects/calcmath/integrals/simpson/solver.py:13\u001B[0m, in \u001B[0;36m<listcomp>\u001B[0;34m(.0)\u001B[0m\n\u001B[1;32m      8\u001B[0m f, (a, b) \u001B[38;5;241m=\u001B[39m lambdify(\u001B[38;5;124m'\u001B[39m\u001B[38;5;124mx\u001B[39m\u001B[38;5;124m'\u001B[39m, integral\u001B[38;5;241m.\u001B[39mformula), integral\u001B[38;5;241m.\u001B[39mranges\n\u001B[1;32m     10\u001B[0m h \u001B[38;5;241m=\u001B[39m (b \u001B[38;5;241m-\u001B[39m a) \u001B[38;5;241m/\u001B[39m steps\n\u001B[1;32m     11\u001B[0m \u001B[38;5;28;01mreturn\u001B[39;00m Right(h \u001B[38;5;241m/\u001B[39m \u001B[38;5;241m6\u001B[39m \u001B[38;5;241m*\u001B[39m (\n\u001B[1;32m     12\u001B[0m         f(a) \u001B[38;5;241m+\u001B[39m f(b) \u001B[38;5;241m+\u001B[39m\n\u001B[0;32m---> 13\u001B[0m         \u001B[38;5;241m2\u001B[39m \u001B[38;5;241m*\u001B[39m \u001B[38;5;28msum\u001B[39m([\u001B[43mf\u001B[49m\u001B[43m(\u001B[49m\u001B[43ma\u001B[49m\u001B[43m \u001B[49m\u001B[38;5;241;43m+\u001B[39;49m\u001B[43m \u001B[49m\u001B[43mi\u001B[49m\u001B[43m \u001B[49m\u001B[38;5;241;43m*\u001B[39;49m\u001B[43m \u001B[49m\u001B[43mh\u001B[49m\u001B[43m)\u001B[49m \u001B[38;5;28;01mfor\u001B[39;00m i \u001B[38;5;129;01min\u001B[39;00m \u001B[38;5;28mrange\u001B[39m(\u001B[38;5;241m1\u001B[39m, steps)]) \u001B[38;5;241m+\u001B[39m\n\u001B[1;32m     14\u001B[0m         \u001B[38;5;241m4\u001B[39m \u001B[38;5;241m*\u001B[39m \u001B[38;5;28msum\u001B[39m([f(a \u001B[38;5;241m+\u001B[39m i \u001B[38;5;241m*\u001B[39m h \u001B[38;5;241m-\u001B[39m h \u001B[38;5;241m/\u001B[39m \u001B[38;5;241m2\u001B[39m) \u001B[38;5;28;01mfor\u001B[39;00m i \u001B[38;5;129;01min\u001B[39;00m \u001B[38;5;28mrange\u001B[39m(\u001B[38;5;241m1\u001B[39m, steps \u001B[38;5;241m+\u001B[39m \u001B[38;5;241m1\u001B[39m)])\n\u001B[1;32m     15\u001B[0m ))\n",
      "File \u001B[0;32m<lambdifygenerated-3>:2\u001B[0m, in \u001B[0;36m_lambdifygenerated\u001B[0;34m(x)\u001B[0m\n\u001B[1;32m      1\u001B[0m \u001B[38;5;28;01mdef\u001B[39;00m \u001B[38;5;21m_lambdifygenerated\u001B[39m(x):\n\u001B[0;32m----> 2\u001B[0m     \u001B[38;5;28;01mreturn\u001B[39;00m \u001B[43mx\u001B[49m\u001B[38;5;241;43m*\u001B[39;49m\u001B[38;5;241;43m*\u001B[39;49m\u001B[43m(\u001B[49m\u001B[38;5;241;43m-\u001B[39;49m\u001B[38;5;241;43m1.0\u001B[39;49m\u001B[43m)\u001B[49m\n",
      "\u001B[0;31mZeroDivisionError\u001B[0m: 0.0 cannot be raised to a negative power"
     ]
    }
   ],
   "source": [
    "for integral in integrals:\n",
    "    print(f\"{integral} = {calculate(integral, 1000)}\")"
   ],
   "metadata": {
    "collapsed": false
   }
  },
  {
   "cell_type": "code",
   "execution_count": null,
   "outputs": [],
   "source": [],
   "metadata": {
    "collapsed": false
   }
  }
 ],
 "metadata": {
  "kernelspec": {
   "display_name": "Python 3",
   "language": "python",
   "name": "python3"
  },
  "language_info": {
   "codemirror_mode": {
    "name": "ipython",
    "version": 2
   },
   "file_extension": ".py",
   "mimetype": "text/x-python",
   "name": "python",
   "nbconvert_exporter": "python",
   "pygments_lexer": "ipython2",
   "version": "2.7.6"
  }
 },
 "nbformat": 4,
 "nbformat_minor": 0
}

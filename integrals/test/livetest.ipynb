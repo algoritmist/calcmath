{
 "cells": [
  {
   "cell_type": "markdown",
   "source": [
    "# Simpson method test\n",
    "## Test cases"
   ],
   "metadata": {
    "collapsed": false
   }
  },
  {
   "cell_type": "code",
   "execution_count": 1,
   "metadata": {
    "collapsed": true
   },
   "outputs": [
    {
     "name": "stdout",
     "output_type": "stream",
     "text": [
      "Integral(x**3)\n",
      "Integral((3*x - 1)/sqrt(2*x**2 - x + 1))\n",
      "Integral(1/x)\n",
      "Integral(sin(x)/x)\n",
      "Integral(exp(-x**2))\n",
      "Integral(1/(x + 1) + 1/x)\n"
     ]
    }
   ],
   "source": [
    "from integrals.simpson.default_integrals import *\n",
    "from integrals.simpson.solver import *\n",
    "\n",
    "for integral in integrals:\n",
    "    print(integral)"
   ]
  },
  {
   "cell_type": "markdown",
   "source": [
    "## Testing"
   ],
   "metadata": {
    "collapsed": false
   }
  },
  {
   "cell_type": "code",
   "execution_count": 3,
   "outputs": [
    {
     "name": "stdout",
     "output_type": "stream",
     "text": [
      "Test 1. Integral(x**3)\n",
      "Range = [0;1]\n",
      "Result: Right(0.25)\n",
      "Expected: Right(0.25)\n",
      "R = 0.0\n",
      "Test verdict: True\n",
      "--------------------\n",
      "Test 2. Integral((3*x - 1)/sqrt(2*x**2 - x + 1))\n",
      "Range = [-5;10]\n",
      "Result: Left(['Unresolvable break at point 0.3333333333333333'])\n",
      "Expected: Right(8.4176339772)\n",
      "Test verdict: False\n",
      "--------------------\n",
      "Test 3. Integral(1/x)\n",
      "Range = [-2;2]\n",
      "Result: Left(['Unresolvable break at point 0'])\n",
      "Expected: Left(No solution)\n",
      "Test verdict: True\n",
      "--------------------\n",
      "Test 4. Integral(sin(x)/x)\n",
      "Range = [-2;2]\n",
      "Result: Right(3.210825955901718)\n",
      "Expected: Right(3.210884)\n",
      "R = 5.80440982820285e-05\n",
      "Test verdict: True\n",
      "--------------------\n",
      "Test 5. Integral(exp(-x**2))\n",
      "Range = [0;1]\n",
      "Result: Right(0.746824132894176)\n",
      "Expected: Right(0.7468)\n",
      "R = 2.4132894176021047e-05\n",
      "Test verdict: True\n",
      "--------------------\n",
      "Test 6. Integral(1/(x + 1) + 1/x)\n",
      "Range = [-2;2]\n",
      "Result: Left(['Unresolvable break at point -1', 'Unresolvable break at point 0'])\n",
      "Expected: Left(No solution)\n",
      "Test verdict: True\n",
      "--------------------\n"
     ]
    }
   ],
   "source": [
    "from integrals.classes.methods import MethodType\n",
    "\n",
    "\n",
    "def show_result(result: Either):\n",
    "    if result.is_right():\n",
    "        return result.get_value()\n",
    "    return f'Function has unresolvable breaks at: {[err.x for err in result.get_error()]}'\n",
    "\n",
    "\n",
    "def is_test_passed(got, expected, eps=1e-3):\n",
    "    if got.is_right() and expected.is_right():\n",
    "        return abs(got.get_value() - expected.get_value()) < eps\n",
    "    if got.is_left() and expected.is_right():\n",
    "        return False\n",
    "    return True\n",
    "\n",
    "def test_integrals():\n",
    "    for i, integral in enumerate(integrals):\n",
    "        print(f\"Test {i + 1}. {integral}\")\n",
    "        print(f\"Range = [{integral.ranges[0]};{integral.ranges[1]}]\")\n",
    "        result = calculate(integral, 100, MethodType.MIDDLE)\n",
    "        print(f\"Result: {result}\")\n",
    "        print(f\"Expected: {integral.expected_answer}\")\n",
    "        if result.is_right() and integral.expected_answer.is_right():\n",
    "            print(f\"R = {abs(result.get_value() - integral.expected_answer.get_value())}\")\n",
    "        print(f\"Test verdict: {is_test_passed(result, integral.expected_answer)}\")\n",
    "        print(\"-\" * 20)\n",
    "\n",
    "\n",
    "test_integrals()"
   ],
   "metadata": {
    "collapsed": false
   }
  },
  {
   "cell_type": "code",
   "execution_count": 2,
   "outputs": [],
   "source": [],
   "metadata": {
    "collapsed": false
   }
  }
 ],
 "metadata": {
  "kernelspec": {
   "display_name": "Python 3",
   "language": "python",
   "name": "python3"
  },
  "language_info": {
   "codemirror_mode": {
    "name": "ipython",
    "version": 2
   },
   "file_extension": ".py",
   "mimetype": "text/x-python",
   "name": "python",
   "nbconvert_exporter": "python",
   "pygments_lexer": "ipython2",
   "version": "2.7.6"
  }
 },
 "nbformat": 4,
 "nbformat_minor": 0
}

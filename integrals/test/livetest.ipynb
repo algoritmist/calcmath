{
 "cells": [
  {
   "cell_type": "markdown",
   "source": [
    "# Simpson method test\n",
    "## Test cases"
   ],
   "metadata": {
    "collapsed": false
   }
  },
  {
   "cell_type": "code",
   "execution_count": 1,
   "metadata": {
    "collapsed": true
   },
   "outputs": [
    {
     "name": "stdout",
     "output_type": "stream",
     "text": [
      "Integral(x**3, (0, 1), Right(0.25))\n",
      "Integral((3*x - 1)/sqrt(2*x**2 - x + 1), (-5, 10), Right(8.4176339772))\n",
      "Integral(1/x, (-2, 2), Left(No solution))\n",
      "Integral(sin(x)/x, (-2, 2), Left(No solution))\n"
     ]
    }
   ],
   "source": [
    "from integrals.simpson.default_integrals import *\n",
    "from integrals.simpson.solver import *\n",
    "for integral in integrals:\n",
    "    print(integral)"
   ]
  },
  {
   "cell_type": "markdown",
   "source": [
    "## Testing"
   ],
   "metadata": {
    "collapsed": false
   }
  },
  {
   "cell_type": "code",
   "execution_count": 4,
   "outputs": [
    {
     "name": "stdout",
     "output_type": "stream",
     "text": [
      "Integral(x**3, (0, 1), Right(0.25)) = 0.25000000000000017\n",
      "Integral((3*x - 1)/sqrt(2*x**2 - x + 1), (-5, 10), Right(8.4176339772)) = 8.417633977253962\n",
      "Integral(1/x, (-2, 2), Left(No solution)) = Function has unresolvable breaks at: [0.0]\n",
      "Integral(sin(x)/x, (-2, 2), Left(No solution)) = nan\n"
     ]
    },
    {
     "name": "stderr",
     "output_type": "stream",
     "text": [
      "<lambdifygenerated-11>:2: RuntimeWarning: invalid value encountered in scalar divide\n",
      "  return sin(x)/x\n"
     ]
    }
   ],
   "source": [
    "from integrals.classes.methods import MethodType\n",
    "\n",
    "def show_result(result: Either):\n",
    "    if result.is_right():\n",
    "        return result.get_value()\n",
    "    return f'Function has unresolvable breaks at: {[err.x for err in result.get_error()]}'\n",
    "\n",
    "for integral in integrals:\n",
    "    result = calculate(integral, 1000, MethodType.MIDDLE)\n",
    "    print(f\"{integral} = {show_result(result)}\")"
   ],
   "metadata": {
    "collapsed": false
   }
  },
  {
   "cell_type": "code",
   "execution_count": 2,
   "outputs": [],
   "source": [],
   "metadata": {
    "collapsed": false
   }
  }
 ],
 "metadata": {
  "kernelspec": {
   "display_name": "Python 3",
   "language": "python",
   "name": "python3"
  },
  "language_info": {
   "codemirror_mode": {
    "name": "ipython",
    "version": 2
   },
   "file_extension": ".py",
   "mimetype": "text/x-python",
   "name": "python",
   "nbconvert_exporter": "python",
   "pygments_lexer": "ipython2",
   "version": "2.7.6"
  }
 },
 "nbformat": 4,
 "nbformat_minor": 0
}
